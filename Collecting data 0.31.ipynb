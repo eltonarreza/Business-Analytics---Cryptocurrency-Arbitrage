{
 "cells": [
  {
   "cell_type": "markdown",
   "metadata": {},
   "source": [
    "## Collecting data "
   ]
  },
  {
   "cell_type": "markdown",
   "metadata": {},
   "source": [
    "### Importing packages "
   ]
  },
  {
   "cell_type": "code",
   "execution_count": 1,
   "metadata": {},
   "outputs": [],
   "source": [
    "import ccxt   # You need to install ccxt package to run the following code. Try : pip install ccxt\n",
    "import time\n",
    "import numpy as np\n",
    "import pandas as pd"
   ]
  },
  {
   "cell_type": "markdown",
   "metadata": {},
   "source": [
    "### Getting the coinpairs "
   ]
  },
  {
   "cell_type": "code",
   "execution_count": 2,
   "metadata": {},
   "outputs": [],
   "source": [
    "# List of the coins for which we have data on the transfer time\n",
    "\n",
    "transfer_time_coins = ['BTC', 'ETH', 'LTC', 'XMR', 'DASH', 'ETC', 'ZEC', 'BTG', 'DGC', 'RDD', 'PPC', 'NVC', 'VTC', \n",
    "                       'NMC', 'FTC', 'BLK', 'AUR']  \n",
    "\n",
    "# Function to get the common coinpairs at two different exchanges intersected with the coins for which we have data on the\n",
    "# transfer time\n",
    "\n",
    "def get_symbols(ex1, ex2, transfer_time_coins = transfer_time_coins):\n",
    "    ex1_symbols = list(getattr(ccxt, ex1)().fetchTickers().keys())    # Coinpairs for the first exchange  e.g. [ETH/BTC, ADA/BTC]\n",
    "    ex2_symbols = list(getattr(ccxt, ex2)().fetchTickers().keys())    # Coinpairs for the second exchange\n",
    "    \n",
    "    opportunity_coins = []\n",
    "    for pair in (set(ex1_symbols) & set(ex2_symbols)):                # set(ex1_symbols) & set(ex2_symbols) : common coinpairs\n",
    "        coin = pair[:pair.find('/')]                                  # The first coin in the coinpair  e.g [ETH, ADA]\n",
    "        opportunity_coins.append(coin)                                   \n",
    "        \n",
    "    study_coins = set(opportunity_coins) & set(transfer_time_coins)   # List of the coins that appear in both exchanges and \n",
    "                                                                      # we have data for the transfer time  e.g [ETH]\n",
    "    study_symbols = []\n",
    "    for pair in (set(ex1_symbols) & set(ex2_symbols)):                # Adding the second coin  e.g [ETH/BTC]\n",
    "        for coin in study_coins:\n",
    "            if coin == pair[:pair.find('/')]:\n",
    "                study_symbols.append(pair)\n",
    "                \n",
    "    return study_symbols"
   ]
  },
  {
   "cell_type": "code",
   "execution_count": 3,
   "metadata": {},
   "outputs": [
    {
     "data": {
      "text/plain": [
       "['XMR/BTC', 'LTC/BTC', 'ETC/ETH', 'ETH/BTC', 'DASH/BTC', 'ETC/BTC', 'ZEC/BTC']"
      ]
     },
     "execution_count": 3,
     "metadata": {},
     "output_type": "execute_result"
    }
   ],
   "source": [
    "get_symbols('binance', 'kraken')"
   ]
  },
  {
   "cell_type": "markdown",
   "metadata": {},
   "source": [
    "### Getting the average ask price "
   ]
  },
  {
   "cell_type": "code",
   "execution_count": 3,
   "metadata": {},
   "outputs": [],
   "source": [
    "# Function to get the average ask price for a certain coin based on the trading amount\n",
    "\n",
    "def avgcoinask(exchange, coinpair, btclimit):\n",
    "    amountbtc = []\n",
    "    quantity = []\n",
    "    averageprice = 0\n",
    "    lastprice = 0\n",
    "\n",
    "    while True:  \n",
    "        for i in getattr(ccxt, exchange)().fetch_order_book(coinpair).get('asks'):\n",
    "            amountbtc.append(i[1] * i[0])\n",
    "            quantity.append(i[1])\n",
    "            if sum(amountbtc) > btclimit:\n",
    "                lastprice = i[0]\n",
    "                break\n",
    "        break\n",
    "                \n",
    "    amountbtc[-1] = amountbtc[-1] - (sum(amountbtc)-btclimit)\n",
    "    quantity[-1] = amountbtc[-1] / lastprice\n",
    "    averageprice = sum(amountbtc)  /sum(quantity)\n",
    "    return averageprice"
   ]
  },
  {
   "cell_type": "code",
   "execution_count": 21,
   "metadata": {},
   "outputs": [
    {
     "data": {
      "text/plain": [
       "0.027825985252227816"
      ]
     },
     "execution_count": 21,
     "metadata": {},
     "output_type": "execute_result"
    }
   ],
   "source": [
    "avgcoinask(exchange = 'binance', coinpair = 'ETH/BTC', btclimit = 0.1)"
   ]
  },
  {
   "cell_type": "code",
   "execution_count": 7,
   "metadata": {},
   "outputs": [
    {
     "data": {
      "text/plain": [
       "0.027829052791993117"
      ]
     },
     "execution_count": 7,
     "metadata": {},
     "output_type": "execute_result"
    }
   ],
   "source": [
    "avgcoinask(exchange = 'binance', coinpair = 'ETH/BTC', btclimit = 1)"
   ]
  },
  {
   "cell_type": "code",
   "execution_count": 22,
   "metadata": {},
   "outputs": [
    {
     "data": {
      "text/plain": [
       "0.027855130955874725"
      ]
     },
     "execution_count": 22,
     "metadata": {},
     "output_type": "execute_result"
    }
   ],
   "source": [
    "avgcoinask(exchange = 'binance', coinpair = 'ETH/BTC', btclimit = 10)"
   ]
  },
  {
   "cell_type": "markdown",
   "metadata": {},
   "source": [
    "### Getting the average bid price "
   ]
  },
  {
   "cell_type": "code",
   "execution_count": 4,
   "metadata": {},
   "outputs": [],
   "source": [
    "# Function to get the average bid price for a certain coin based on the trading amount\n",
    "\n",
    "def avgcoinbid(exchange, coinpair, btclimit):\n",
    "    amountbtc = []\n",
    "    quantity = []\n",
    "    averageprice = 0\n",
    "    lastprice = 0    \n",
    "    \n",
    "    while True:       \n",
    "        for i in getattr(ccxt, exchange)().fetch_order_book(coinpair).get('bids'):\n",
    "            amountbtc.append(i[1] * i[0])\n",
    "            quantity.append(i[1])\n",
    "            if sum(amountbtc) > btclimit:\n",
    "                lastprice = i[0]\n",
    "                break\n",
    "        break\n",
    "        \n",
    "    amountbtc[-1] = amountbtc[-1] - (sum(amountbtc)-btclimit)\n",
    "    quantity[-1] = amountbtc[-1] / lastprice\n",
    "    averageprice = sum(amountbtc) / sum(quantity)\n",
    "    return averageprice"
   ]
  },
  {
   "cell_type": "code",
   "execution_count": 26,
   "metadata": {},
   "outputs": [
    {
     "data": {
      "text/plain": [
       "0.02782"
      ]
     },
     "execution_count": 26,
     "metadata": {},
     "output_type": "execute_result"
    }
   ],
   "source": [
    "avgcoinbid(exchange = 'kraken', coinpair = 'ETH/BTC', btclimit = 0.1)"
   ]
  },
  {
   "cell_type": "code",
   "execution_count": 27,
   "metadata": {},
   "outputs": [
    {
     "data": {
      "text/plain": [
       "0.02778417735106473"
      ]
     },
     "execution_count": 27,
     "metadata": {},
     "output_type": "execute_result"
    }
   ],
   "source": [
    "avgcoinbid(exchange = 'kraken', coinpair = 'ETH/BTC', btclimit = 1)"
   ]
  },
  {
   "cell_type": "code",
   "execution_count": 28,
   "metadata": {},
   "outputs": [
    {
     "data": {
      "text/plain": [
       "0.027715297998988198"
      ]
     },
     "execution_count": 28,
     "metadata": {},
     "output_type": "execute_result"
    }
   ],
   "source": [
    "avgcoinbid(exchange = 'kraken', coinpair = 'ETH/BTC', btclimit = 10)"
   ]
  },
  {
   "cell_type": "markdown",
   "metadata": {},
   "source": [
    "### Getting the difference between aks price at the first exchange and bid price at the second exchange "
   ]
  },
  {
   "cell_type": "code",
   "execution_count": 5,
   "metadata": {},
   "outputs": [],
   "source": [
    "def difference(ex1, ex2, coinpairs, btcamount):\n",
    "    a = pd.DataFrame(index = [0])\n",
    "    index1 = 0\n",
    "\n",
    "    for pair in coinpairs:\n",
    "        diffs = [[],[]]\n",
    "        try:\n",
    "            ask = avgcoinask(ex1, pair, btcamount)\n",
    "            bid = avgcoinbid(ex2, pair, btcamount)\n",
    "            diff = (bid - ask) / ((bid + ask) / 2)\n",
    "            diffs[1].append(diff)\n",
    "            diffs[0].append(time.time() - start_time)\n",
    "            df = pd.DataFrame({\"Difference \" + pair: diffs[1], \"Time \" + pair: diffs[0]}, index= [index1])\n",
    "            a = pd.concat([a,df], axis = 1)\n",
    "        except Exception:\n",
    "                pass\n",
    "\n",
    "    return a    "
   ]
  },
  {
   "cell_type": "code",
   "execution_count": 6,
   "metadata": {},
   "outputs": [
    {
     "data": {
      "text/html": [
       "<div>\n",
       "<style scoped>\n",
       "    .dataframe tbody tr th:only-of-type {\n",
       "        vertical-align: middle;\n",
       "    }\n",
       "\n",
       "    .dataframe tbody tr th {\n",
       "        vertical-align: top;\n",
       "    }\n",
       "\n",
       "    .dataframe thead th {\n",
       "        text-align: right;\n",
       "    }\n",
       "</style>\n",
       "<table border=\"1\" class=\"dataframe\">\n",
       "  <thead>\n",
       "    <tr style=\"text-align: right;\">\n",
       "      <th></th>\n",
       "      <th>Difference ETH/BTC</th>\n",
       "      <th>Time ETH/BTC</th>\n",
       "      <th>Difference XMR/BTC</th>\n",
       "      <th>Time XMR/BTC</th>\n",
       "    </tr>\n",
       "  </thead>\n",
       "  <tbody>\n",
       "    <tr>\n",
       "      <th>0</th>\n",
       "      <td>-0.001687</td>\n",
       "      <td>2.598533</td>\n",
       "      <td>-0.000907</td>\n",
       "      <td>5.260754</td>\n",
       "    </tr>\n",
       "  </tbody>\n",
       "</table>\n",
       "</div>"
      ],
      "text/plain": [
       "   Difference ETH/BTC  Time ETH/BTC  Difference XMR/BTC  Time XMR/BTC\n",
       "0           -0.001687      2.598533           -0.000907      5.260754"
      ]
     },
     "execution_count": 6,
     "metadata": {},
     "output_type": "execute_result"
    }
   ],
   "source": [
    "start_time = time.time()\n",
    "difference(ex1 = 'binance', ex2 = 'kraken', coinpairs = ['ETH/BTC', 'XMR/BTC'], btcamount = 0.1)"
   ]
  },
  {
   "cell_type": "markdown",
   "metadata": {},
   "source": [
    "### Running the difference function for a certain amount of time"
   ]
  },
  {
   "cell_type": "code",
   "execution_count": 10,
   "metadata": {},
   "outputs": [],
   "source": [
    "def collectingdata(ex1, ex2, amount, duration_minutes, timesleep = 0):\n",
    "    filename = '{0}_{1}_{2}_{3}'.format(ex1, ex2, amount, duration_minutes)\n",
    "    coinpairs = get_symbols(ex1, ex2)\n",
    "    a = difference(ex1, ex2, coinpairs, amount)\n",
    "    \n",
    "    while True:\n",
    "        try:\n",
    "            if (time.time() - start_time) < (duration_minutes * 60):\n",
    "                c = a.append(difference(ex1, ex2, coinpairs, amount))\n",
    "                a = c\n",
    "                a.to_csv(filename)\n",
    "                time.sleep(timesleep)\n",
    "            else:\n",
    "                return(a)\n",
    "                break\n",
    "        except Exception:\n",
    "            pass"
   ]
  },
  {
   "cell_type": "code",
   "execution_count": 11,
   "metadata": {},
   "outputs": [
    {
     "data": {
      "text/html": [
       "<div>\n",
       "<style scoped>\n",
       "    .dataframe tbody tr th:only-of-type {\n",
       "        vertical-align: middle;\n",
       "    }\n",
       "\n",
       "    .dataframe tbody tr th {\n",
       "        vertical-align: top;\n",
       "    }\n",
       "\n",
       "    .dataframe thead th {\n",
       "        text-align: right;\n",
       "    }\n",
       "</style>\n",
       "<table border=\"1\" class=\"dataframe\">\n",
       "  <thead>\n",
       "    <tr style=\"text-align: right;\">\n",
       "      <th></th>\n",
       "      <th>Difference LTC/BTC</th>\n",
       "      <th>Time LTC/BTC</th>\n",
       "      <th>Difference DASH/BTC</th>\n",
       "      <th>Time DASH/BTC</th>\n",
       "      <th>Difference ZEC/BTC</th>\n",
       "      <th>Time ZEC/BTC</th>\n",
       "      <th>Difference ETC/ETH</th>\n",
       "      <th>Time ETC/ETH</th>\n",
       "      <th>Difference ETC/BTC</th>\n",
       "      <th>Time ETC/BTC</th>\n",
       "      <th>Difference ETH/BTC</th>\n",
       "      <th>Time ETH/BTC</th>\n",
       "      <th>Difference XMR/BTC</th>\n",
       "      <th>Time XMR/BTC</th>\n",
       "    </tr>\n",
       "  </thead>\n",
       "  <tbody>\n",
       "    <tr>\n",
       "      <th>0</th>\n",
       "      <td>-0.002392</td>\n",
       "      <td>4.427927</td>\n",
       "      <td>-0.003537</td>\n",
       "      <td>7.397033</td>\n",
       "      <td>-0.002592</td>\n",
       "      <td>9.451360</td>\n",
       "      <td>-0.003207</td>\n",
       "      <td>11.598059</td>\n",
       "      <td>-0.003410</td>\n",
       "      <td>13.747417</td>\n",
       "      <td>-0.001883</td>\n",
       "      <td>15.795171</td>\n",
       "      <td>-0.000906</td>\n",
       "      <td>18.049273</td>\n",
       "    </tr>\n",
       "    <tr>\n",
       "      <th>0</th>\n",
       "      <td>-0.002267</td>\n",
       "      <td>20.507896</td>\n",
       "      <td>-0.003520</td>\n",
       "      <td>22.652406</td>\n",
       "      <td>-0.002855</td>\n",
       "      <td>24.648636</td>\n",
       "      <td>-0.003279</td>\n",
       "      <td>27.367374</td>\n",
       "      <td>-0.001706</td>\n",
       "      <td>29.725595</td>\n",
       "      <td>-0.001991</td>\n",
       "      <td>33.000205</td>\n",
       "      <td>-0.000906</td>\n",
       "      <td>35.050614</td>\n",
       "    </tr>\n",
       "    <tr>\n",
       "      <th>0</th>\n",
       "      <td>-0.003023</td>\n",
       "      <td>37.094765</td>\n",
       "      <td>-0.003586</td>\n",
       "      <td>39.658478</td>\n",
       "      <td>-0.003194</td>\n",
       "      <td>42.316361</td>\n",
       "      <td>-0.003279</td>\n",
       "      <td>44.467279</td>\n",
       "      <td>-0.002662</td>\n",
       "      <td>46.928341</td>\n",
       "      <td>-0.002350</td>\n",
       "      <td>49.078034</td>\n",
       "      <td>-0.000906</td>\n",
       "      <td>51.123055</td>\n",
       "    </tr>\n",
       "    <tr>\n",
       "      <th>0</th>\n",
       "      <td>-0.002897</td>\n",
       "      <td>53.377568</td>\n",
       "      <td>-0.003076</td>\n",
       "      <td>55.629974</td>\n",
       "      <td>-0.002231</td>\n",
       "      <td>57.884106</td>\n",
       "      <td>-0.001569</td>\n",
       "      <td>59.833381</td>\n",
       "      <td>-0.005111</td>\n",
       "      <td>61.975102</td>\n",
       "      <td>-0.001955</td>\n",
       "      <td>64.125773</td>\n",
       "      <td>-0.000777</td>\n",
       "      <td>66.489349</td>\n",
       "    </tr>\n",
       "  </tbody>\n",
       "</table>\n",
       "</div>"
      ],
      "text/plain": [
       "   Difference LTC/BTC  Time LTC/BTC  Difference DASH/BTC  Time DASH/BTC  \\\n",
       "0           -0.002392      4.427927            -0.003537       7.397033   \n",
       "0           -0.002267     20.507896            -0.003520      22.652406   \n",
       "0           -0.003023     37.094765            -0.003586      39.658478   \n",
       "0           -0.002897     53.377568            -0.003076      55.629974   \n",
       "\n",
       "   Difference ZEC/BTC  Time ZEC/BTC  Difference ETC/ETH  Time ETC/ETH  \\\n",
       "0           -0.002592      9.451360           -0.003207     11.598059   \n",
       "0           -0.002855     24.648636           -0.003279     27.367374   \n",
       "0           -0.003194     42.316361           -0.003279     44.467279   \n",
       "0           -0.002231     57.884106           -0.001569     59.833381   \n",
       "\n",
       "   Difference ETC/BTC  Time ETC/BTC  Difference ETH/BTC  Time ETH/BTC  \\\n",
       "0           -0.003410     13.747417           -0.001883     15.795171   \n",
       "0           -0.001706     29.725595           -0.001991     33.000205   \n",
       "0           -0.002662     46.928341           -0.002350     49.078034   \n",
       "0           -0.005111     61.975102           -0.001955     64.125773   \n",
       "\n",
       "   Difference XMR/BTC  Time XMR/BTC  \n",
       "0           -0.000906     18.049273  \n",
       "0           -0.000906     35.050614  \n",
       "0           -0.000906     51.123055  \n",
       "0           -0.000777     66.489349  "
      ]
     },
     "execution_count": 11,
     "metadata": {},
     "output_type": "execute_result"
    }
   ],
   "source": [
    "# This is how we produced the datasets\n",
    "start_time = time.time()\n",
    "diffs = [[],[]]\n",
    "collectingdata('binance', 'kraken', 0.1, 1)"
   ]
  },
  {
   "cell_type": "code",
   "execution_count": null,
   "metadata": {},
   "outputs": [],
   "source": []
  }
 ],
 "metadata": {
  "kernelspec": {
   "display_name": "Python 3",
   "language": "python",
   "name": "python3"
  },
  "language_info": {
   "codemirror_mode": {
    "name": "ipython",
    "version": 3
   },
   "file_extension": ".py",
   "mimetype": "text/x-python",
   "name": "python",
   "nbconvert_exporter": "python",
   "pygments_lexer": "ipython3",
   "version": "3.7.0"
  },
  "toc": {
   "base_numbering": 1,
   "nav_menu": {},
   "number_sections": true,
   "sideBar": true,
   "skip_h1_title": false,
   "title_cell": "Table of Contents",
   "title_sidebar": "Contents",
   "toc_cell": false,
   "toc_position": {},
   "toc_section_display": true,
   "toc_window_display": false
  },
  "varInspector": {
   "cols": {
    "lenName": 16,
    "lenType": 16,
    "lenVar": 40
   },
   "kernels_config": {
    "python": {
     "delete_cmd_postfix": "",
     "delete_cmd_prefix": "del ",
     "library": "var_list.py",
     "varRefreshCmd": "print(var_dic_list())"
    },
    "r": {
     "delete_cmd_postfix": ") ",
     "delete_cmd_prefix": "rm(",
     "library": "var_list.r",
     "varRefreshCmd": "cat(var_dic_list()) "
    }
   },
   "types_to_exclude": [
    "module",
    "function",
    "builtin_function_or_method",
    "instance",
    "_Feature"
   ],
   "window_display": false
  }
 },
 "nbformat": 4,
 "nbformat_minor": 2
}
